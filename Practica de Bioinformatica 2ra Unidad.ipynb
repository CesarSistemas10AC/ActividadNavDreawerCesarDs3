{
  "nbformat": 4,
  "nbformat_minor": 0,
  "metadata": {
    "colab": {
      "name": "Untitled6.ipynb",
      "provenance": [],
      "authorship_tag": "ABX9TyN2OApDKWCJf20+ob3DNfqt",
      "include_colab_link": true
    },
    "kernelspec": {
      "name": "python3",
      "display_name": "Python 3"
    },
    "language_info": {
      "name": "python"
    }
  },
  "cells": [
    {
      "cell_type": "markdown",
      "metadata": {
        "id": "view-in-github",
        "colab_type": "text"
      },
      "source": [
        "<a href=\"https://colab.research.google.com/github/CesarSistemas10AC/ActividadNavDreawerCesarDs3/blob/master/Practica%20de%20Bioinformatica%202ra%20Unidad.ipynb\" target=\"_parent\"><img src=\"https://colab.research.google.com/assets/colab-badge.svg\" alt=\"Open In Colab\"/></a>"
      ]
    },
    {
      "cell_type": "markdown",
      "source": [
        "Actividad 4: PRACTICA - Ejercicios sobre alineamiento de secuencias Integrantes: ---**Cusihuallpa Corrales Ozzy** \n",
        "---**Noriega Villalobos Luis Carlos** \n",
        "---**Ochoa Moreano Jhonatan** \n",
        "---**Quispe Ochoa Wyll**\n",
        "---**Tinta Mendoza Julio Cesar**"
      ],
      "metadata": {
        "id": "19PehkWoz7kd"
      }
    },
    {
      "cell_type": "markdown",
      "source": [
        "Desarrolle los siguientes ejercicios y proyectos de programación en Google Colab\n",
        "1. Considere la aplicación del algoritmo de Smith-Waterman a las secuencias: S1: ANDDR; S2: AARRD. Los parámetros de alineación deben ser la matriz de sustitución BLOSUM62 y el valor de g = −8. Escriba un programa en Python, que permita obtener: (i) la matriz S con mejores puntuaciones; (ii) la matriz de rastreo; (iii) la alineación óptima y su puntuación."
      ],
      "metadata": {
        "id": "JvVfeQRuz92k"
      }
    },
    {
      "cell_type": "code",
      "source": [
        "def smith_Waterman(seq1: str, seq2: str, sm : dict, g : int) -> tuple:\n",
        "  S = [[0]]\n",
        "  T = [[0]]\n",
        "  maxscore = 0\n",
        "  for j in range (1, len (seq2)+1):\n",
        "    S[0].append(0)\n",
        "    T[0].append(0)\n",
        "  for i in range (1, len (seq1)+1):\n",
        "    S.append([0])\n",
        "    T.append([0])\n",
        "  for i in range (0, len(seq1)):\n",
        "    for j in range( len(seq2)):\n",
        "      s1 = S[i][j] + score_pos (seq1[i], seq2[j], sm, g);\n",
        "      s2 = S[i][j+1] + g\n",
        "      s3 = S[i+1][j] + g\n",
        "      b = max(s1, s2, s3)\n",
        "      if b <= 0:\n",
        "        S[i+1].append(0)\n",
        "        T[i+1].append(0)\n",
        "      else :\n",
        "        S[i+1].append(b)\n",
        "        T[i+1].append(max3t(s1, s2, s3))\n",
        "        if b > maxscore:\n",
        "          maxscore = b\n",
        "  return (S, T, maxscore)"
      ],
      "metadata": {
        "id": "vokzAjD00BRc"
      },
      "execution_count": 14,
      "outputs": []
    },
    {
      "cell_type": "code",
      "execution_count": 2,
      "metadata": {
        "id": "Jkh_ArPszv6q"
      },
      "outputs": [],
      "source": [
        "def recover_align_local (S, T, seq1, seq2):\n",
        "  res = [\"\", \"\"] \n",
        "  i, j = max_mat(S)\n",
        "  while T[i][j]>0:\n",
        "    if T[i][j]==1:\n",
        "      res[0] = seq1[i - 1] + res[0] \n",
        "      res[1] = seq2[j - 1] + res[1] \n",
        "      i -= 1 \n",
        "      j -= 1\n",
        "    elif T[i][j] == 3:\n",
        "      res[0] = \"-\" + res[0];\n",
        "      res[1] = seq2[j-1] + res[1] \n",
        "      j -= 1\n",
        "    elif T[i][j] == 2:\n",
        "      res[0] = seq1[i-1] + res[0] \n",
        "      res[1] = \"-\" + res[1]\n",
        "      i -= 1\n",
        "    return res"
      ]
    },
    {
      "cell_type": "code",
      "source": [
        "def max_mat(mat):\n",
        "  maxval = mat[0][0] \n",
        "  maxrow = 0 \n",
        "  maxcol = 0\n",
        "  for i in range (0, len (mat)):\n",
        "    for j in range (0, len (mat[i])):\n",
        "      if mat[i][j] > maxval:\n",
        "        maxval = mat[i][j] \n",
        "        maxrow = i \n",
        "        maxcol = j\n",
        "  return (maxrow,maxcol)"
      ],
      "metadata": {
        "id": "B7UG3UQg0IWr"
      },
      "execution_count": 3,
      "outputs": []
    },
    {
      "cell_type": "code",
      "source": [
        "def test_local_alig():\n",
        "  sm = read_submat_file(\"BLOSUM62.txt\") \n",
        "  seq1 = \"ANDDR\" \n",
        "  seq2 = \"AARRD\"\n",
        "  res = smith_Waterman(seq1, seq2, sm, -8) \n",
        "  S = res[0] \n",
        "  T = res[1]\n",
        "  print(\"La puntuacion de alineamiento optimo es:\", res[2])\n",
        "  print_mat(S) \n",
        "  print_mat(T) \n",
        "  alinL= recover_align_local(S, T, seq1, seq2)\n",
        "  print(\"Aline local\",alinL[0]) \n",
        "  print(\"Aline local\",alinL[1])\n"
      ],
      "metadata": {
        "id": "3Ee8jZX90JcK"
      },
      "execution_count": 10,
      "outputs": []
    },
    {
      "cell_type": "code",
      "source": [
        "def read_submat_file (filename):\n",
        "  sm = {}\n",
        "  f = open(filename, \"r\")\n",
        "  line = f.readline()\n",
        "  tokens = line.split()\n",
        "  ns = len (tokens)\n",
        "  alphabet = []\n",
        "  for i in range (0, ns):\n",
        "    alphabet.append(tokens[i][0])\n",
        "  for i in range (0,ns):\n",
        "    line = f.readline();\n",
        "    tokens = line.split();\n",
        "    for j in range (0, len(tokens)-1):\n",
        "      k = alphabet[i]+alphabet[j]\n",
        "      sm[k] = int (tokens[j+1])\n",
        "  return sm"
      ],
      "metadata": {
        "id": "iPzj78_F0-tl"
      },
      "execution_count": 12,
      "outputs": []
    },
    {
      "cell_type": "code",
      "source": [
        "def score_pos (c1, c2, sm, g):\n",
        "  if c1 == \"−\" or c2==\"−\":\n",
        "    return g\n",
        "  else :\n",
        "    return sm[c1+c2]\n",
        "\n",
        "def score_pos (c1, c2, sm, g):\n",
        "  if c1 == \"−\" or c2==\"−\":\n",
        "    return g\n",
        "  else :\n",
        "    return sm[c1+c2]\n",
        "\n",
        "def max3t (v1, v2, v3):\n",
        "  if v1 > v2:\n",
        "    if v1 > v3: return 1\n",
        "    else : return 3\n",
        "  else :\n",
        "    if v2 > v3: return 2\n",
        "    else : return 3\n",
        "\n",
        "def print_mat (mat):\n",
        "  for i in range (0, len (mat)):\n",
        "    print (mat[i])"
      ],
      "metadata": {
        "id": "AH5XQMbQ1HbD"
      },
      "execution_count": 21,
      "outputs": []
    },
    {
      "cell_type": "code",
      "source": [
        "test_local_alig()"
      ],
      "metadata": {
        "colab": {
          "base_uri": "https://localhost:8080/",
          "height": 0
        },
        "id": "cM9GJeQU1zKU",
        "outputId": "8ed4e0db-b409-468d-ec7d-5f91a0bb6ca2"
      },
      "execution_count": 22,
      "outputs": [
        {
          "output_type": "stream",
          "name": "stdout",
          "text": [
            "La puntuacion de alineamiento optimo es: 8\n",
            "[0, 0, 0, 0, 0, 0]\n",
            "[0, 4, 4, 0, 0, 0]\n",
            "[0, 0, 2, 4, 0, 1]\n",
            "[0, 0, 0, 0, 2, 6]\n",
            "[0, 0, 0, 0, 0, 8]\n",
            "[0, 0, 0, 5, 5, 0]\n",
            "[0, 0, 0, 0, 0, 0]\n",
            "[0, 1, 1, 0, 0, 0]\n",
            "[0, 0, 1, 1, 0, 1]\n",
            "[0, 0, 0, 0, 1, 1]\n",
            "[0, 0, 0, 0, 0, 1]\n",
            "[0, 0, 0, 1, 1, 0]\n",
            "Aline local D\n",
            "Aline local D\n"
          ]
        }
      ]
    },
    {
      "cell_type": "markdown",
      "source": [
        "2. Considere la aplicación del algoritmo de Needleman-Wunsch a las siguientes secuencias de ADN: S1: TACT; S2: ACTA. Los parámetros utilizados son los siguientes: penalización por espacio (g): −3, coincidencia (caracteres iguales): 3, discordancia: −1. Escribir un programa en Python que permita obtener (i) la matriz S con mejores puntuaciones; (ii) la matriz de rastreo; (iii) la alineación óptima y su puntuación. Compruebe si hay alineaciones óptimas alternativas."
      ],
      "metadata": {
        "id": "sR2RzGnM7Wrc"
      }
    },
    {
      "cell_type": "code",
      "source": [
        "def read_submat_file (filename):\n",
        "  sm = {}\n",
        "  f = open(filename , \"r\")\n",
        "  line = f.readline()\n",
        "  tokens = line.split()\n",
        "  ns = len (tokens)\n",
        "  alphabet = []\n",
        "  for i in range (0, ns):\n",
        "    alphabet.append(tokens[i][0])\n",
        "  for i in range (0, ns):\n",
        "    line = f.readline();\n",
        "    tokens = line.split();\n",
        "    for j in range(0, len (tokens)-1):\n",
        "      k = alphabet[i]+alphabet[j]\n",
        "      #print(tokens)\n",
        "      sm[k]= int(tokens[j+1])\n",
        "  return sm\n",
        "\n",
        "def test_prot():\n",
        "  sm = read_submat_file(\"BLOSUM62-final.txt\")\n",
        "  print(sm)\n",
        "  print (len(sm))"
      ],
      "metadata": {
        "id": "yoAyeNL77ZFC"
      },
      "execution_count": 46,
      "outputs": []
    },
    {
      "cell_type": "code",
      "source": [
        "def score_pos (c1, c2, sm, g):\n",
        "  if c1 == \"−\" or c2==\"−\":\n",
        "    return g\n",
        "  else:\n",
        "    return sm[c1+c2]\n",
        "\n",
        "def score_align (seq1 , seq2 , sm, g):\n",
        "  res = 0;\n",
        "  for i in range(len(seq1)):\n",
        "    res += score_pos (seq1[i], seq2[i], sm, g)\n",
        "  return res"
      ],
      "metadata": {
        "id": "6pnTXrj_8Idh"
      },
      "execution_count": 47,
      "outputs": []
    },
    {
      "cell_type": "code",
      "source": [
        "sm = read_submat_file(\"BLOSUM62.txt\")\n",
        "print(score_pos(\"A\",\"−\",sm,-2))"
      ],
      "metadata": {
        "colab": {
          "base_uri": "https://localhost:8080/",
          "height": 0
        },
        "id": "opJwOyVc82m8",
        "outputId": "bc6bda31-ea9c-41bd-da2a-16fe3d17d2e0"
      },
      "execution_count": 49,
      "outputs": [
        {
          "output_type": "stream",
          "name": "stdout",
          "text": [
            "-2\n"
          ]
        }
      ]
    },
    {
      "cell_type": "code",
      "source": [
        "def needleman_Wunsch (seq1 , seq2 , sm, g):\n",
        "  S = [[0]]\n",
        "  T = [[0]]\n",
        "  ## initialize gaps’ row\n",
        "  for j in range (1, len (seq2)+1):\n",
        "    S[0].append(g * j)\n",
        "    T[0].append(3)\n",
        "  ## initialize gaps’ column\n",
        "  for i in range (1, len (seq1)+1):\n",
        "    S.append([g * i])\n",
        "    T.append([2])\n",
        "  ## apply the recurrence relation to fill the remaining of the matrix\n",
        "  for i in range (0, len (seq1)):\n",
        "    for j in range(len (seq2)):\n",
        "      s1 = S[i][j] + score_pos (seq1[i], seq2[j], sm, g); #-10\n",
        "      s2 = S[i][j+1] + g #-2+-8 =-10\n",
        "      s3 = S[i+1][j] + g #-16+-8 =-24\n",
        "      S[i+1].append(max(s1, s2, s3))\n",
        "      T[i+1].append(max3t(s1, s2, s3))\n",
        "  return (S, T)\n",
        "\n",
        "def max3t (v1, v2, v3):\n",
        "  if v1 > v2:\n",
        "    if v1 > v3: return 1\n",
        "    else : return 3\n",
        "  else :\n",
        "    if v2 > v3: return 2\n",
        "    else : return 3"
      ],
      "metadata": {
        "id": "pk7ZSR7587_Z"
      },
      "execution_count": 50,
      "outputs": []
    },
    {
      "cell_type": "code",
      "source": [
        "def recover_align (T, seq1 , seq2):\n",
        "  res = [\"\", \"\"]\n",
        "  i = len (seq1)\n",
        "  j = len (seq2)\n",
        "  while i>0 or j>0:\n",
        "    if T[i][j]==1:\n",
        "      res[0] = seq1[i-1] + res[0]\n",
        "      res[1] = seq2[j-1] + res[1]\n",
        "      i -= 1\n",
        "      j -= 1\n",
        "    elif T[i][j] == 3:\n",
        "      res[0] = \"−\" + res[0]\n",
        "      res[1] = seq2[j-1] + res[1]\n",
        "      j -= 1\n",
        "    else :\n",
        "      res[0] = seq1[i-1] + res[0]\n",
        "      res[1] = \"−\" + res[1]\n",
        "      i -= 1\n",
        "  return res"
      ],
      "metadata": {
        "id": "1QvFkL60FnwX"
      },
      "execution_count": 51,
      "outputs": []
    },
    {
      "cell_type": "code",
      "source": [
        "def print_mat (mat):\n",
        "  for i in range (0, len (mat)):\n",
        "    print (mat[i])\n",
        "\n",
        "def test_global_alig():\n",
        "  sm = read_submat_file(\"BLOSUM62.txt\")\n",
        "  seq1 = \"TACT\"  #\"RPHSWGFTA\"\n",
        "  seq2 = \"ACTA\"  #\"HGWAGFTAG\"\n",
        "  res = needleman_Wunsch(seq1 , seq2 , sm, -3) #CAMBIAR POR EL 3 EL 8\n",
        "  S = res[0]\n",
        "  T = res[1]\n",
        "  print (\"Puntuación de alineación óptima:\", S[len(seq1)][len(seq2)])\n",
        "  print_mat(S)\n",
        "  print_mat(T)\n",
        "  alig = recover_align(T, seq1 , seq2)\n",
        "  print (alig[0])\n",
        "  print (alig[1])\n",
        "\n",
        "test_global_alig()"
      ],
      "metadata": {
        "colab": {
          "base_uri": "https://localhost:8080/",
          "height": 0
        },
        "id": "a5mkDamZ9WXr",
        "outputId": "baff8806-68d4-4043-bc8b-b159aba8830e"
      },
      "execution_count": 55,
      "outputs": [
        {
          "output_type": "stream",
          "name": "stdout",
          "text": [
            "Puntuación de alineación óptima: 12\n",
            "[0, -3, -6, -9, -12]\n",
            "[-3, 0, -3, -1, -4]\n",
            "[-6, 1, 0, -3, 3]\n",
            "[-9, -2, 10, 7, 4]\n",
            "[-12, -5, 7, 15, 12]\n",
            "[0, 3, 3, 3, 3]\n",
            "[2, 1, 3, 1, 3]\n",
            "[2, 1, 1, 3, 1]\n",
            "[2, 2, 1, 3, 3]\n",
            "[2, 2, 2, 1, 3]\n",
            "TACT−\n",
            "−ACTA\n"
          ]
        }
      ]
    },
    {
      "cell_type": "code",
      "source": [
        "def create_submat (match , mismatch , alphabet):\n",
        "  sm = {}\n",
        "  for c1 in alphabet:\n",
        "    for c2 in alphabet:\n",
        "      if (c1 == c2):\n",
        "        sm[c1+c2] = match\n",
        "      else:\n",
        "        sm[c1+c2] = mismatch\n",
        "  return sm\n",
        "\n",
        "def test_DNA():\n",
        "  sm = create_submat(3,-1,\"TACT−\") # coincidencia (caracteres iguales): 3, discordancia: −1\n",
        "  print(sm)\n",
        "\n",
        "test_DNA()"
      ],
      "metadata": {
        "colab": {
          "base_uri": "https://localhost:8080/",
          "height": 0
        },
        "id": "wh6zcQFEGinY",
        "outputId": "55015563-49d1-4642-c603-3b223f3b9b56"
      },
      "execution_count": 56,
      "outputs": [
        {
          "output_type": "stream",
          "name": "stdout",
          "text": [
            "{'TT': 3, 'TA': -1, 'TC': -1, 'T−': -1, 'AT': -1, 'AA': 3, 'AC': -1, 'A−': -1, 'CT': -1, 'CA': -1, 'CC': 3, 'C−': -1, '−T': -1, '−A': -1, '−C': -1, '−−': 3}\n"
          ]
        }
      ]
    },
    {
      "cell_type": "code",
      "source": [
        "def create_submat (match , mismatch , alphabet):\n",
        "  sm = {}\n",
        "  for c1 in alphabet:\n",
        "    for c2 in alphabet:\n",
        "      if (c1 == c2):\n",
        "        sm[c1+c2] = match\n",
        "      else:\n",
        "        sm[c1+c2] = mismatch\n",
        "  return sm\n",
        "\n",
        "def test_DNA():\n",
        "  sm = create_submat(3,-1,\"−ACTA\") # coincidencia (caracteres iguales): 3, discordancia: −1\n",
        "  print(sm)\n",
        "\n",
        "test_DNA()"
      ],
      "metadata": {
        "colab": {
          "base_uri": "https://localhost:8080/",
          "height": 0
        },
        "id": "JLL86JZkGxx_",
        "outputId": "73067b27-819d-43b8-9079-ce658265d7fc"
      },
      "execution_count": 57,
      "outputs": [
        {
          "output_type": "stream",
          "name": "stdout",
          "text": [
            "{'−−': 3, '−A': -1, '−C': -1, '−T': -1, 'A−': -1, 'AA': 3, 'AC': -1, 'AT': -1, 'C−': -1, 'CA': -1, 'CC': 3, 'CT': -1, 'T−': -1, 'TA': -1, 'TC': -1, 'TT': 3}\n"
          ]
        }
      ]
    },
    {
      "cell_type": "markdown",
      "source": [
        "3. Escriba y pruebe una función que, dada una matriz binaria (con elementos 0 o 1), proveniente de una función que crea matrices dotplot, identifique las diagonales más grandes que las contienen (puede ser la diagonal principal o cualquier otra diagonal de la matriz). El resultado debe ser una tupla con: el tamaño de la diagonal, la fila donde comienza y la columna donde comienza."
      ],
      "metadata": {
        "id": "5y_mrlAl3n7X"
      }
    },
    {
      "cell_type": "code",
      "source": [
        "def create_mat(nrows , ncols):\n",
        "  mat = []\n",
        "  for i in range(nrows):\n",
        "    mat.append([])\n",
        "    for j in range(ncols):\n",
        "      mat[i].append(0)\n",
        "  return mat\n",
        "\n",
        "def dotplot(seq1 , seq2):\n",
        "  mat = create_mat(len(seq1),len(seq2))\n",
        "  for i in range(len(seq1)):\n",
        "    for j in range(len(seq2)):\n",
        "      if seq1[i] == seq2[j]:\n",
        "        mat[i][j] = 1\n",
        "  return mat"
      ],
      "metadata": {
        "id": "TTLwG_ye3rpT"
      },
      "execution_count": 43,
      "outputs": []
    },
    {
      "cell_type": "code",
      "source": [
        "def print_dotplot(mat, s1, s2):\n",
        "  import sys\n",
        "  sys.stdout.write(\" \" + s2+\"\\n\")\n",
        "  for i in range(len(mat)):\n",
        "    sys.stdout.write(s1[i])\n",
        "    for j in range(len(mat[i])):\n",
        "      if mat[i][j] >= 1:\n",
        "        sys.stdout.write(\"∗\")\n",
        "      else :\n",
        "        sys.stdout.write(\" \")\n",
        "    sys.stdout.write(\"\\n\")\n",
        "\n",
        "def test():\n",
        "  s1 = \"CGATATAG\"\n",
        "  s2 = \"TATATATT\"\n",
        "  mat1 = dotplot(s1, s2)\n",
        "  print(mat1)\n",
        "  print_dotplot(mat1 , s1, s2)"
      ],
      "metadata": {
        "id": "uRu2k9EJ4ufk"
      },
      "execution_count": 44,
      "outputs": []
    },
    {
      "cell_type": "code",
      "source": [
        "test()"
      ],
      "metadata": {
        "colab": {
          "base_uri": "https://localhost:8080/",
          "height": 0
        },
        "id": "phdHYwt641DJ",
        "outputId": "69a63484-6acc-45a7-f058-7a5a0594e3a4"
      },
      "execution_count": 45,
      "outputs": [
        {
          "output_type": "stream",
          "name": "stdout",
          "text": [
            "[[0, 0, 0, 0, 0, 0, 0, 0], [0, 0, 0, 0, 0, 0, 0, 0], [0, 1, 0, 1, 0, 1, 0, 0], [1, 0, 1, 0, 1, 0, 1, 1], [0, 1, 0, 1, 0, 1, 0, 0], [1, 0, 1, 0, 1, 0, 1, 1], [0, 1, 0, 1, 0, 1, 0, 0], [0, 0, 0, 0, 0, 0, 0, 0]]\n",
            " TATATATT\n",
            "C        \n",
            "G        \n",
            "A ∗ ∗ ∗  \n",
            "T∗ ∗ ∗ ∗∗\n",
            "A ∗ ∗ ∗  \n",
            "T∗ ∗ ∗ ∗∗\n",
            "A ∗ ∗ ∗  \n",
            "G        \n"
          ]
        }
      ]
    }
  ]
}